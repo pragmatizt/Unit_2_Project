{
 "cells": [
  {
   "cell_type": "code",
   "execution_count": 1,
   "metadata": {},
   "outputs": [],
   "source": [
    "# Revision 3.\n",
    "\n",
    "import pandas as pd\n",
    "import numpy as np\n",
    "import csv\n",
    "%matplotlib inline\n",
    "import matplotlib.pyplot as plt\n",
    "import seaborn as sns\n",
    "\n",
    "# Pipelines, Regressions, Encoding.\n",
    "from sklearn.pipeline import make_pipeline\n",
    "from sklearn.impute import SimpleImputer\n",
    "import category_encoders as ce\n",
    "from sklearn.linear_model import LogisticRegression\n",
    "from sklearn.linear_model import LinearRegression\n",
    "from sklearn.preprocessing import StandardScaler, RobustScaler\n",
    "from sklearn.metrics import mean_absolute_error, mean_squared_error\n",
    "\n",
    "# OLS Model\n",
    "from sklearn import metrics\n",
    "from sklearn.metrics import r2_score\n",
    "import statsmodels.api as sm\n",
    "from statsmodels.formula.api import ols\n",
    "import statsmodels.api as sm"
   ]
  },
  {
   "cell_type": "code",
   "execution_count": 2,
   "metadata": {
    "scrolled": true
   },
   "outputs": [
    {
     "name": "stderr",
     "output_type": "stream",
     "text": [
      "C:\\Users\\evang\\Anaconda3\\envs\\Unit2\\lib\\site-packages\\IPython\\core\\interactiveshell.py:3058: DtypeWarning: Columns (2,14,17,21,22,24,26,34,36,37,38,39,41,42,43,50,51,53,54,56,57) have mixed types. Specify dtype option on import or set low_memory=False.\n",
      "  interactivity=interactivity, compiler=compiler, result=result)\n"
     ]
    }
   ],
   "source": [
    "df = pd.read_csv('mask.csv')"
   ]
  },
  {
   "cell_type": "code",
   "execution_count": 3,
   "metadata": {},
   "outputs": [
    {
     "name": "stdout",
     "output_type": "stream",
     "text": [
      "(1198663, 65)\n"
     ]
    },
    {
     "data": {
      "text/html": [
       "<div>\n",
       "<style scoped>\n",
       "    .dataframe tbody tr th:only-of-type {\n",
       "        vertical-align: middle;\n",
       "    }\n",
       "\n",
       "    .dataframe tbody tr th {\n",
       "        vertical-align: top;\n",
       "    }\n",
       "\n",
       "    .dataframe thead th {\n",
       "        text-align: right;\n",
       "    }\n",
       "</style>\n",
       "<table border=\"1\" class=\"dataframe\">\n",
       "  <thead>\n",
       "    <tr style=\"text-align: right;\">\n",
       "      <th></th>\n",
       "      <th>Unnamed: 0</th>\n",
       "      <th>Data Provider</th>\n",
       "      <th>System ID (from Data Provider)</th>\n",
       "      <th>System ID (Tracking the Sun)</th>\n",
       "      <th>Installation Date</th>\n",
       "      <th>System Size</th>\n",
       "      <th>Total Installed Price</th>\n",
       "      <th>Appraised Value Flag</th>\n",
       "      <th>Sales Tax Cost</th>\n",
       "      <th>Rebate or Grant</th>\n",
       "      <th>...</th>\n",
       "      <th>Inverter Quantity #2</th>\n",
       "      <th>Inverter Manufacturer #3</th>\n",
       "      <th>Inverter Model #3</th>\n",
       "      <th>Inverter Quantity #3</th>\n",
       "      <th>Additional inverter model</th>\n",
       "      <th>Microinverter #1</th>\n",
       "      <th>Microinverter #2</th>\n",
       "      <th>Microinverter #3</th>\n",
       "      <th>DC Optimizer</th>\n",
       "      <th>Year_Installed</th>\n",
       "    </tr>\n",
       "  </thead>\n",
       "  <tbody>\n",
       "    <tr>\n",
       "      <th>0</th>\n",
       "      <td>0</td>\n",
       "      <td>State Energy Office</td>\n",
       "      <td>-9999</td>\n",
       "      <td>AR_EDC_1</td>\n",
       "      <td>2010-04-29</td>\n",
       "      <td>2.016</td>\n",
       "      <td>14558.0</td>\n",
       "      <td>False</td>\n",
       "      <td>510.762764</td>\n",
       "      <td>0.0</td>\n",
       "      <td>...</td>\n",
       "      <td>-9999</td>\n",
       "      <td>-9999</td>\n",
       "      <td>-9999</td>\n",
       "      <td>-9999</td>\n",
       "      <td>-9999</td>\n",
       "      <td>1</td>\n",
       "      <td>-9999</td>\n",
       "      <td>-9999</td>\n",
       "      <td>0</td>\n",
       "      <td>2010</td>\n",
       "    </tr>\n",
       "    <tr>\n",
       "      <th>1</th>\n",
       "      <td>1</td>\n",
       "      <td>State Energy Office</td>\n",
       "      <td>-9999</td>\n",
       "      <td>AR_EDC_2</td>\n",
       "      <td>2010-04-26</td>\n",
       "      <td>3.360</td>\n",
       "      <td>26096.0</td>\n",
       "      <td>False</td>\n",
       "      <td>851.271273</td>\n",
       "      <td>0.0</td>\n",
       "      <td>...</td>\n",
       "      <td>-9999</td>\n",
       "      <td>-9999</td>\n",
       "      <td>-9999</td>\n",
       "      <td>-9999</td>\n",
       "      <td>-9999</td>\n",
       "      <td>1</td>\n",
       "      <td>-9999</td>\n",
       "      <td>-9999</td>\n",
       "      <td>0</td>\n",
       "      <td>2010</td>\n",
       "    </tr>\n",
       "    <tr>\n",
       "      <th>2</th>\n",
       "      <td>2</td>\n",
       "      <td>State Energy Office</td>\n",
       "      <td>-9999</td>\n",
       "      <td>AR_EDC_3</td>\n",
       "      <td>2010-04-20</td>\n",
       "      <td>13.440</td>\n",
       "      <td>91139.0</td>\n",
       "      <td>False</td>\n",
       "      <td>3405.085091</td>\n",
       "      <td>0.0</td>\n",
       "      <td>...</td>\n",
       "      <td>-9999</td>\n",
       "      <td>-9999</td>\n",
       "      <td>-9999</td>\n",
       "      <td>-9999</td>\n",
       "      <td>-9999</td>\n",
       "      <td>1</td>\n",
       "      <td>-9999</td>\n",
       "      <td>-9999</td>\n",
       "      <td>0</td>\n",
       "      <td>2010</td>\n",
       "    </tr>\n",
       "    <tr>\n",
       "      <th>3</th>\n",
       "      <td>3</td>\n",
       "      <td>State Energy Office</td>\n",
       "      <td>-9999</td>\n",
       "      <td>AR_EDC_4</td>\n",
       "      <td>2010-04-21</td>\n",
       "      <td>5.520</td>\n",
       "      <td>40043.0</td>\n",
       "      <td>False</td>\n",
       "      <td>1398.517091</td>\n",
       "      <td>0.0</td>\n",
       "      <td>...</td>\n",
       "      <td>-9999</td>\n",
       "      <td>-9999</td>\n",
       "      <td>-9999</td>\n",
       "      <td>-9999</td>\n",
       "      <td>-9999</td>\n",
       "      <td>1</td>\n",
       "      <td>-9999</td>\n",
       "      <td>-9999</td>\n",
       "      <td>0</td>\n",
       "      <td>2010</td>\n",
       "    </tr>\n",
       "    <tr>\n",
       "      <th>4</th>\n",
       "      <td>4</td>\n",
       "      <td>State Energy Office</td>\n",
       "      <td>-9999</td>\n",
       "      <td>AR_EDC_5</td>\n",
       "      <td>2010-04-22</td>\n",
       "      <td>2.530</td>\n",
       "      <td>21497.0</td>\n",
       "      <td>False</td>\n",
       "      <td>640.987000</td>\n",
       "      <td>0.0</td>\n",
       "      <td>...</td>\n",
       "      <td>-9999</td>\n",
       "      <td>-9999</td>\n",
       "      <td>-9999</td>\n",
       "      <td>-9999</td>\n",
       "      <td>-9999</td>\n",
       "      <td>1</td>\n",
       "      <td>-9999</td>\n",
       "      <td>-9999</td>\n",
       "      <td>0</td>\n",
       "      <td>2010</td>\n",
       "    </tr>\n",
       "  </tbody>\n",
       "</table>\n",
       "<p>5 rows × 65 columns</p>\n",
       "</div>"
      ],
      "text/plain": [
       "   Unnamed: 0        Data Provider System ID (from Data Provider)  \\\n",
       "0           0  State Energy Office                          -9999   \n",
       "1           1  State Energy Office                          -9999   \n",
       "2           2  State Energy Office                          -9999   \n",
       "3           3  State Energy Office                          -9999   \n",
       "4           4  State Energy Office                          -9999   \n",
       "\n",
       "  System ID (Tracking the Sun) Installation Date  System Size  \\\n",
       "0                     AR_EDC_1        2010-04-29        2.016   \n",
       "1                     AR_EDC_2        2010-04-26        3.360   \n",
       "2                     AR_EDC_3        2010-04-20       13.440   \n",
       "3                     AR_EDC_4        2010-04-21        5.520   \n",
       "4                     AR_EDC_5        2010-04-22        2.530   \n",
       "\n",
       "   Total Installed Price  Appraised Value Flag  Sales Tax Cost  \\\n",
       "0                14558.0                 False      510.762764   \n",
       "1                26096.0                 False      851.271273   \n",
       "2                91139.0                 False     3405.085091   \n",
       "3                40043.0                 False     1398.517091   \n",
       "4                21497.0                 False      640.987000   \n",
       "\n",
       "   Rebate or Grant       ...        Inverter Quantity #2  \\\n",
       "0              0.0       ...                       -9999   \n",
       "1              0.0       ...                       -9999   \n",
       "2              0.0       ...                       -9999   \n",
       "3              0.0       ...                       -9999   \n",
       "4              0.0       ...                       -9999   \n",
       "\n",
       "   Inverter Manufacturer #3  Inverter Model #3  Inverter Quantity #3  \\\n",
       "0                     -9999              -9999                 -9999   \n",
       "1                     -9999              -9999                 -9999   \n",
       "2                     -9999              -9999                 -9999   \n",
       "3                     -9999              -9999                 -9999   \n",
       "4                     -9999              -9999                 -9999   \n",
       "\n",
       "  Additional inverter model  Microinverter #1  Microinverter #2  \\\n",
       "0                     -9999                 1             -9999   \n",
       "1                     -9999                 1             -9999   \n",
       "2                     -9999                 1             -9999   \n",
       "3                     -9999                 1             -9999   \n",
       "4                     -9999                 1             -9999   \n",
       "\n",
       "  Microinverter #3  DC Optimizer  Year_Installed  \n",
       "0            -9999             0            2010  \n",
       "1            -9999             0            2010  \n",
       "2            -9999             0            2010  \n",
       "3            -9999             0            2010  \n",
       "4            -9999             0            2010  \n",
       "\n",
       "[5 rows x 65 columns]"
      ]
     },
     "execution_count": 3,
     "metadata": {},
     "output_type": "execute_result"
    }
   ],
   "source": [
    "print(df.shape)\n",
    "df.head()"
   ]
  },
  {
   "cell_type": "code",
   "execution_count": 4,
   "metadata": {},
   "outputs": [],
   "source": [
    "# Basis behind breaking val and test -- year arrangement\n",
    "df = df.sort_values('Year_Installed')"
   ]
  },
  {
   "cell_type": "code",
   "execution_count": 5,
   "metadata": {},
   "outputs": [],
   "source": [
    "target = 'System Size'\n",
    "# features = df.drop[columns='target']\n",
    "\n",
    "train = df[:-150000]\n",
    "val = df[-150000:-50000]\n",
    "test = df[-50000:]"
   ]
  },
  {
   "cell_type": "code",
   "execution_count": 6,
   "metadata": {},
   "outputs": [
    {
     "data": {
      "text/plain": [
       "((1048663, 65), (50000, 65), (100000, 65))"
      ]
     },
     "execution_count": 6,
     "metadata": {},
     "output_type": "execute_result"
    }
   ],
   "source": [
    "train.shape, test.shape, val.shape"
   ]
  },
  {
   "cell_type": "code",
   "execution_count": 7,
   "metadata": {},
   "outputs": [],
   "source": [
    "df = df.replace(-9999, np.NaN)"
   ]
  },
  {
   "cell_type": "code",
   "execution_count": 8,
   "metadata": {
    "scrolled": true
   },
   "outputs": [
    {
     "data": {
      "text/plain": [
       "Inverter Quantity #3                            1198663\n",
       "Inverter Quantity #2                            1198663\n",
       "Inverter Quantity #1                            1198663\n",
       "Microinverter #3                                1194090\n",
       "Azimuth #3                                      1186800\n",
       "Module Efficiency #3                            1186408\n",
       "BIPV Module #3                                  1185686\n",
       "Tilt #3                                         1185661\n",
       "Azimuth #2                                      1165131\n",
       "Tilt #2                                         1165127\n",
       "Module Efficiency #2                            1153029\n",
       "Microinverter #2                                1150202\n",
       "BIPV Module #2                                  1149875\n",
       "Ground Mounted                                  1088576\n",
       "Battery System                                  1049662\n",
       "Self-Installed                                   996159\n",
       "New Construction                                 943043\n",
       "Azimuth #1                                       683893\n",
       "Tilt #1                                          558679\n",
       "Tracking                                         433927\n",
       "Module Model #3                                  420423\n",
       "Module Technology #3                             420423\n",
       "Module Manufacturer #3                           420423\n",
       "Inverter Model #3                                371271\n",
       "Additional inverter model                        366762\n",
       "Additional module model                          363282\n",
       "Inverter Manufacturer #3                         346695\n",
       "Module Efficiency #1                             341780\n",
       "Inverter Model #2                                281159\n",
       "Inverter Manufacturer #2                         281159\n",
       "                                                 ...   \n",
       "BIPV Module #1                                   262559\n",
       "DC Optimizer                                     242646\n",
       "Tracking Type                                    240199\n",
       "Rebate or Grant                                  228847\n",
       "Third-Party Owned                                226592\n",
       "Sales Tax Cost                                   224965\n",
       "Total Installed Price                            224778\n",
       "Inverter Model #1                                141895\n",
       "Inverter Manufacturer #1                         133703\n",
       "Installer Name                                   131072\n",
       "Zip Code                                          83626\n",
       "Module Technology #1                              73728\n",
       "Module Manufacturer #1                            65550\n",
       "City                                              49152\n",
       "System ID (from Data Provider)                    32836\n",
       "Customer Segment                                  32768\n",
       "Utility Service Territory                         24576\n",
       "Performance-Based Incentives (Duration)            6815\n",
       "Performance-Based Incentive (Annual Payment)       6815\n",
       "Feed-in Tariff (Duration)                             1\n",
       "Feed-in Tariff (Annual Payment)                       1\n",
       "Installation Date                                     0\n",
       "System ID (Tracking the Sun)                          0\n",
       "Data Provider                                         0\n",
       "Year_Installed                                        0\n",
       "System Size                                           0\n",
       "Appraised Value Flag                                  0\n",
       "State                                                 0\n",
       "Module Model #1                                       0\n",
       "Unnamed: 0                                            0\n",
       "Length: 65, dtype: int64"
      ]
     },
     "execution_count": 8,
     "metadata": {},
     "output_type": "execute_result"
    }
   ],
   "source": [
    "df.isnull().sum().sort_values(ascending=False)"
   ]
  },
  {
   "cell_type": "code",
   "execution_count": 9,
   "metadata": {},
   "outputs": [
    {
     "data": {
      "text/plain": [
       "Index(['Unnamed: 0', 'System Size', 'Total Installed Price', 'Sales Tax Cost',\n",
       "       'Rebate or Grant', 'Performance-Based Incentive (Annual Payment)',\n",
       "       'Performance-Based Incentives (Duration)',\n",
       "       'Feed-in Tariff (Annual Payment)', 'Feed-in Tariff (Duration)',\n",
       "       'New Construction', 'Tracking', 'Ground Mounted', 'Battery System',\n",
       "       'Zip Code', 'Third-Party Owned', 'Self-Installed', 'Azimuth #1',\n",
       "       'Azimuth #2', 'Azimuth #3', 'Tilt #1', 'Tilt #2', 'Tilt #3',\n",
       "       'Additional module model', 'BIPV Module #1', 'BIPV Module #2',\n",
       "       'BIPV Module #3', 'Module Efficiency #1', 'Module Efficiency #2',\n",
       "       'Module Efficiency #3', 'Inverter Quantity #1', 'Inverter Quantity #2',\n",
       "       'Inverter Quantity #3', 'Additional inverter model', 'Microinverter #1',\n",
       "       'Microinverter #2', 'Microinverter #3', 'DC Optimizer',\n",
       "       'Year_Installed'],\n",
       "      dtype='object')"
      ]
     },
     "execution_count": 9,
     "metadata": {},
     "output_type": "execute_result"
    }
   ],
   "source": [
    "numerical_columns = df.select_dtypes(include='number').columns\n",
    "numerical_columns"
   ]
  },
  {
   "cell_type": "code",
   "execution_count": 10,
   "metadata": {},
   "outputs": [
    {
     "data": {
      "text/plain": [
       "Unnamed: 0                                      308119.792179\n",
       "System Size                                         22.220650\n",
       "Total Installed Price                            52089.191003\n",
       "Sales Tax Cost                                    1017.888518\n",
       "Rebate or Grant                                   3757.218395\n",
       "Performance-Based Incentive (Annual Payment)       217.814695\n",
       "Performance-Based Incentives (Duration)              0.046119\n",
       "Feed-in Tariff (Annual Payment)                     90.804959\n",
       "Feed-in Tariff (Duration)                            0.013432\n",
       "New Construction                                     0.135275\n",
       "Tracking                                             0.005338\n",
       "Ground Mounted                                       0.160827\n",
       "Battery System                                       0.002322\n",
       "Zip Code                                         75888.528261\n",
       "Third-Party Owned                                    0.472252\n",
       "Self-Installed                                       0.095297\n",
       "Azimuth #1                                         182.240518\n",
       "Azimuth #2                                         184.651733\n",
       "Azimuth #3                                         182.042738\n",
       "Tilt #1                                             20.976018\n",
       "Tilt #2                                             22.670802\n",
       "Tilt #3                                             20.487771\n",
       "Additional module model                              0.005321\n",
       "BIPV Module #1                                       0.005449\n",
       "BIPV Module #2                                       0.004858\n",
       "BIPV Module #3                                       0.001079\n",
       "Module Efficiency #1                                 0.166379\n",
       "Module Efficiency #2                                 0.164397\n",
       "Module Efficiency #3                                 0.165572\n",
       "Inverter Quantity #1                                      NaN\n",
       "Inverter Quantity #2                                      NaN\n",
       "Inverter Quantity #3                                      NaN\n",
       "Additional inverter model                            0.001515\n",
       "Microinverter #1                                     0.295677\n",
       "Microinverter #2                                     0.160149\n",
       "Microinverter #3                                     0.338290\n",
       "DC Optimizer                                         0.214680\n",
       "Year_Installed                                    2014.230445\n",
       "dtype: float64"
      ]
     },
     "execution_count": 10,
     "metadata": {},
     "output_type": "execute_result"
    }
   ],
   "source": [
    "mean_values_df = df[numerical_columns].mean()\n",
    "mean_values_df"
   ]
  },
  {
   "cell_type": "code",
   "execution_count": 11,
   "metadata": {},
   "outputs": [],
   "source": [
    "df[numerical_columns] = df[numerical_columns].fillna(mean_values_df)"
   ]
  },
  {
   "cell_type": "code",
   "execution_count": 12,
   "metadata": {},
   "outputs": [
    {
     "data": {
      "text/plain": [
       "Inverter Quantity #2                            1198663\n",
       "Inverter Quantity #1                            1198663\n",
       "Inverter Quantity #3                            1198663\n",
       "Module Technology #3                             420423\n",
       "Module Model #3                                  420423\n",
       "Module Manufacturer #3                           420423\n",
       "Inverter Model #3                                371271\n",
       "Inverter Manufacturer #3                         346695\n",
       "Inverter Manufacturer #2                         281159\n",
       "Inverter Model #2                                281159\n",
       "Module Model #2                                  272967\n",
       "Module Technology #2                             272967\n",
       "County                                           264775\n",
       "Module Manufacturer #2                           264775\n",
       "Tracking Type                                    240199\n",
       "Inverter Model #1                                141895\n",
       "Inverter Manufacturer #1                         133703\n",
       "Installer Name                                   131072\n",
       "Module Technology #1                              73728\n",
       "Module Manufacturer #1                            65550\n",
       "City                                              49152\n",
       "System ID (from Data Provider)                    32836\n",
       "Customer Segment                                  32768\n",
       "Utility Service Territory                         24576\n",
       "Performance-Based Incentive (Annual Payment)          0\n",
       "Zip Code                                              0\n",
       "Data Provider                                         0\n",
       "Battery System                                        0\n",
       "Ground Mounted                                        0\n",
       "Tracking                                              0\n",
       "                                                 ...   \n",
       "Installation Date                                     0\n",
       "System Size                                           0\n",
       "Total Installed Price                                 0\n",
       "Appraised Value Flag                                  0\n",
       "Performance-Based Incentives (Duration)               0\n",
       "Sales Tax Cost                                        0\n",
       "Year_Installed                                        0\n",
       "Tilt #2                                               0\n",
       "State                                                 0\n",
       "Third-Party Owned                                     0\n",
       "Microinverter #3                                      0\n",
       "Microinverter #2                                      0\n",
       "Microinverter #1                                      0\n",
       "Additional inverter model                             0\n",
       "Module Efficiency #3                                  0\n",
       "Module Efficiency #2                                  0\n",
       "Module Efficiency #1                                  0\n",
       "BIPV Module #3                                        0\n",
       "BIPV Module #2                                        0\n",
       "BIPV Module #1                                        0\n",
       "Additional module model                               0\n",
       "Module Model #1                                       0\n",
       "Tilt #3                                               0\n",
       "DC Optimizer                                          0\n",
       "Tilt #1                                               0\n",
       "Azimuth #3                                            0\n",
       "Azimuth #2                                            0\n",
       "Azimuth #1                                            0\n",
       "Self-Installed                                        0\n",
       "Unnamed: 0                                            0\n",
       "Length: 65, dtype: int64"
      ]
     },
     "execution_count": 12,
     "metadata": {},
     "output_type": "execute_result"
    }
   ],
   "source": [
    "df.isnull().sum().sort_values(ascending=False)"
   ]
  },
  {
   "cell_type": "code",
   "execution_count": 15,
   "metadata": {},
   "outputs": [],
   "source": [
    "# Iterations listed below.\n",
    "\n",
    "drop_columns = [\n",
    "                # First Revision \n",
    "                'System Size', 'Performance-Based Incentives (Duration)', 'Feed-in Tariff (Annual Payment)',\n",
    "                'Feed-in Tariff (Duration)', 'Module Efficiency #1', 'Microinverter #1', \n",
    "                'DC Optimizer', 'Tracking', 'Ground Mounted', 'Self-Installed', \n",
    "                'Azimuth #2', 'Azimuth #3', 'Tilt #2', 'Tilt #3',  \n",
    "                'BIPV Module #2', 'BIPV Module #3', 'Module Efficiency #2', 'Module Efficiency #3',\n",
    "                'Additional inverter model',  'Microinverter #2', 'Microinverter #3',\n",
    "                'Zip Code',\n",
    "               \n",
    "                # Second Revision\n",
    "                'Inverter Quantity #2', 'Inverter Quantity #1', 'Inverter Quantity #3',\n",
    "                'Module Technology #3', 'Module Model #3', 'Module Manufacturer #3',\n",
    "                'Inverter Model #3', 'Inverter Manufacturer #3', 'Inverter Manufacturer #2',\n",
    "                'Inverter Model #2', 'Module Technology #2', 'County', 'Module Manufacturer #2',\n",
    "                'Unnamed: 0',\n",
    "                \n",
    "                # Third Revision\n",
    "                'Data Provider', 'System ID (from Data Provider)', \n",
    "                'System ID (Tracking the Sun)', 'Installation Date',\n",
    "    \n",
    "                # Fourth Revision\n",
    "                'Azimuth #1', 'Tilt #1'\n",
    "               ]\n",
    "      "
   ]
  },
  {
   "cell_type": "code",
   "execution_count": 16,
   "metadata": {},
   "outputs": [],
   "source": [
    "y_train = train[target]\n",
    "y_val = val[target]\n",
    "y_test = test[target]\n",
    "\n",
    "X_train = train.drop(columns=drop_columns)\n",
    "X_val = val.drop(columns=drop_columns)\n",
    "X_test = test.drop(columns=drop_columns)"
   ]
  },
  {
   "cell_type": "code",
   "execution_count": 17,
   "metadata": {},
   "outputs": [
    {
     "data": {
      "text/plain": [
       "Module Manufacturer #1                          14\n",
       "Year_Installed                                   0\n",
       "State                                            0\n",
       "Appraised Value Flag                             0\n",
       "Sales Tax Cost                                   0\n",
       "Rebate or Grant                                  0\n",
       "Performance-Based Incentive (Annual Payment)     0\n",
       "Customer Segment                                 0\n",
       "New Construction                                 0\n",
       "Tracking Type                                    0\n",
       "Battery System                                   0\n",
       "City                                             0\n",
       "Utility Service Territory                        0\n",
       "Inverter Model #1                                0\n",
       "Third-Party Owned                                0\n",
       "Installer Name                                   0\n",
       "Module Model #1                                  0\n",
       "Module Model #2                                  0\n",
       "Additional module model                          0\n",
       "Module Technology #1                             0\n",
       "BIPV Module #1                                   0\n",
       "Inverter Manufacturer #1                         0\n",
       "Total Installed Price                            0\n",
       "dtype: int64"
      ]
     },
     "execution_count": 17,
     "metadata": {},
     "output_type": "execute_result"
    }
   ],
   "source": [
    "X_train.isnull().sum().sort_values(ascending=False)"
   ]
  },
  {
   "cell_type": "code",
   "execution_count": 18,
   "metadata": {},
   "outputs": [],
   "source": [
    "# Make our pipeline\n",
    "pipeline = make_pipeline(\n",
    "        ce.OrdinalEncoder(),\n",
    "        SimpleImputer(strategy=\"most_frequent\"),  # We imputed mean on numeric; \n",
    "        RobustScaler(), # Instead of standardscaler, we can do RobustScaler. RobustScalers address outliers.\n",
    "                           # standard scaler vs robust?\n",
    "        LinearRegression()\n",
    ")"
   ]
  },
  {
   "cell_type": "code",
   "execution_count": 19,
   "metadata": {},
   "outputs": [
    {
     "data": {
      "text/plain": [
       "Pipeline(memory=None,\n",
       "         steps=[('ordinalencoder',\n",
       "                 OrdinalEncoder(cols=['Customer Segment', 'Tracking Type',\n",
       "                                      'City', 'State',\n",
       "                                      'Utility Service Territory',\n",
       "                                      'Installer Name',\n",
       "                                      'Module Manufacturer #1',\n",
       "                                      'Module Model #1', 'Module Model #2',\n",
       "                                      'Module Technology #1',\n",
       "                                      'Inverter Manufacturer #1',\n",
       "                                      'Inverter Model #1'],\n",
       "                                drop_invariant=False, handle_missing='value',\n",
       "                                handle_unknown='value',\n",
       "                                mappin...\n",
       "                ('simpleimputer',\n",
       "                 SimpleImputer(add_indicator=False, copy=True, fill_value=None,\n",
       "                               missing_values=nan, strategy='most_frequent',\n",
       "                               verbose=0)),\n",
       "                ('robustscaler',\n",
       "                 RobustScaler(copy=True, quantile_range=(25.0, 75.0),\n",
       "                              with_centering=True, with_scaling=True)),\n",
       "                ('linearregression',\n",
       "                 LinearRegression(copy_X=True, fit_intercept=True, n_jobs=None,\n",
       "                                  normalize=False))],\n",
       "         verbose=False)"
      ]
     },
     "execution_count": 19,
     "metadata": {},
     "output_type": "execute_result"
    }
   ],
   "source": [
    "pipeline.fit(X_train, y_train)"
   ]
  },
  {
   "cell_type": "code",
   "execution_count": 20,
   "metadata": {},
   "outputs": [
    {
     "data": {
      "text/plain": [
       "((1048663, 23), (1048663,), (100000, 23), (100000,), (50000, 23), (50000,))"
      ]
     },
     "execution_count": 20,
     "metadata": {},
     "output_type": "execute_result"
    }
   ],
   "source": [
    "X_train.shape, y_train.shape, X_val.shape, y_val.shape, X_test.shape, y_test.shape"
   ]
  },
  {
   "cell_type": "code",
   "execution_count": 21,
   "metadata": {},
   "outputs": [
    {
     "data": {
      "text/html": [
       "<div>\n",
       "<style scoped>\n",
       "    .dataframe tbody tr th:only-of-type {\n",
       "        vertical-align: middle;\n",
       "    }\n",
       "\n",
       "    .dataframe tbody tr th {\n",
       "        vertical-align: top;\n",
       "    }\n",
       "\n",
       "    .dataframe thead th {\n",
       "        text-align: right;\n",
       "    }\n",
       "</style>\n",
       "<table border=\"1\" class=\"dataframe\">\n",
       "  <thead>\n",
       "    <tr style=\"text-align: right;\">\n",
       "      <th></th>\n",
       "      <th>Total Installed Price</th>\n",
       "      <th>Appraised Value Flag</th>\n",
       "      <th>Sales Tax Cost</th>\n",
       "      <th>Rebate or Grant</th>\n",
       "      <th>Performance-Based Incentive (Annual Payment)</th>\n",
       "      <th>Customer Segment</th>\n",
       "      <th>New Construction</th>\n",
       "      <th>Tracking Type</th>\n",
       "      <th>Battery System</th>\n",
       "      <th>City</th>\n",
       "      <th>...</th>\n",
       "      <th>Installer Name</th>\n",
       "      <th>Module Manufacturer #1</th>\n",
       "      <th>Module Model #1</th>\n",
       "      <th>Module Model #2</th>\n",
       "      <th>Additional module model</th>\n",
       "      <th>Module Technology #1</th>\n",
       "      <th>BIPV Module #1</th>\n",
       "      <th>Inverter Manufacturer #1</th>\n",
       "      <th>Inverter Model #1</th>\n",
       "      <th>Year_Installed</th>\n",
       "    </tr>\n",
       "  </thead>\n",
       "  <tbody>\n",
       "    <tr>\n",
       "      <th>1051052</th>\n",
       "      <td>-9999.00</td>\n",
       "      <td>False</td>\n",
       "      <td>-9999.0</td>\n",
       "      <td>-9999.0</td>\n",
       "      <td>0.0</td>\n",
       "      <td>RES</td>\n",
       "      <td>-9999</td>\n",
       "      <td>-9999</td>\n",
       "      <td>-9999</td>\n",
       "      <td>Tijeras</td>\n",
       "      <td>...</td>\n",
       "      <td>-9999</td>\n",
       "      <td>-9999</td>\n",
       "      <td>no match</td>\n",
       "      <td>-9999</td>\n",
       "      <td>-9999</td>\n",
       "      <td>-9999</td>\n",
       "      <td>-9999</td>\n",
       "      <td>-9999</td>\n",
       "      <td>-9999</td>\n",
       "      <td>1998</td>\n",
       "    </tr>\n",
       "    <tr>\n",
       "      <th>125394</th>\n",
       "      <td>16303.00</td>\n",
       "      <td>False</td>\n",
       "      <td>-9999.0</td>\n",
       "      <td>4506.0</td>\n",
       "      <td>0.0</td>\n",
       "      <td>-9999</td>\n",
       "      <td>0</td>\n",
       "      <td>-9999</td>\n",
       "      <td>-9999</td>\n",
       "      <td>Cupertino</td>\n",
       "      <td>...</td>\n",
       "      <td>light energy systems</td>\n",
       "      <td>-9999</td>\n",
       "      <td>no match</td>\n",
       "      <td>-9999</td>\n",
       "      <td>-9999</td>\n",
       "      <td>-9999</td>\n",
       "      <td>-9999</td>\n",
       "      <td>-9999</td>\n",
       "      <td>-9999</td>\n",
       "      <td>1998</td>\n",
       "    </tr>\n",
       "    <tr>\n",
       "      <th>124616</th>\n",
       "      <td>-9999.00</td>\n",
       "      <td>False</td>\n",
       "      <td>-9999.0</td>\n",
       "      <td>-9999.0</td>\n",
       "      <td>0.0</td>\n",
       "      <td>RES</td>\n",
       "      <td>-9999</td>\n",
       "      <td>-9999</td>\n",
       "      <td>-9999</td>\n",
       "      <td>Santa Cruz</td>\n",
       "      <td>...</td>\n",
       "      <td>-9999</td>\n",
       "      <td>-9999</td>\n",
       "      <td>no match</td>\n",
       "      <td>-9999</td>\n",
       "      <td>0</td>\n",
       "      <td>-9999</td>\n",
       "      <td>-9999</td>\n",
       "      <td>Schneider Electric</td>\n",
       "      <td>-9999</td>\n",
       "      <td>1998</td>\n",
       "    </tr>\n",
       "    <tr>\n",
       "      <th>124972</th>\n",
       "      <td>16000.00</td>\n",
       "      <td>False</td>\n",
       "      <td>-9999.0</td>\n",
       "      <td>5910.0</td>\n",
       "      <td>0.0</td>\n",
       "      <td>-9999</td>\n",
       "      <td>0</td>\n",
       "      <td>-9999</td>\n",
       "      <td>-9999</td>\n",
       "      <td>San Jose</td>\n",
       "      <td>...</td>\n",
       "      <td>gaiam energy</td>\n",
       "      <td>-9999</td>\n",
       "      <td>no match</td>\n",
       "      <td>-9999</td>\n",
       "      <td>-9999</td>\n",
       "      <td>-9999</td>\n",
       "      <td>-9999</td>\n",
       "      <td>-9999</td>\n",
       "      <td>-9999</td>\n",
       "      <td>1998</td>\n",
       "    </tr>\n",
       "    <tr>\n",
       "      <th>125403</th>\n",
       "      <td>25522.25</td>\n",
       "      <td>False</td>\n",
       "      <td>-9999.0</td>\n",
       "      <td>11820.0</td>\n",
       "      <td>0.0</td>\n",
       "      <td>-9999</td>\n",
       "      <td>0</td>\n",
       "      <td>-9999</td>\n",
       "      <td>-9999</td>\n",
       "      <td>Half Moon Bay</td>\n",
       "      <td>...</td>\n",
       "      <td>gaiam energy</td>\n",
       "      <td>-9999</td>\n",
       "      <td>no match</td>\n",
       "      <td>-9999</td>\n",
       "      <td>-9999</td>\n",
       "      <td>-9999</td>\n",
       "      <td>-9999</td>\n",
       "      <td>-9999</td>\n",
       "      <td>-9999</td>\n",
       "      <td>1998</td>\n",
       "    </tr>\n",
       "  </tbody>\n",
       "</table>\n",
       "<p>5 rows × 23 columns</p>\n",
       "</div>"
      ],
      "text/plain": [
       "         Total Installed Price  Appraised Value Flag  Sales Tax Cost  \\\n",
       "1051052               -9999.00                 False         -9999.0   \n",
       "125394                16303.00                 False         -9999.0   \n",
       "124616                -9999.00                 False         -9999.0   \n",
       "124972                16000.00                 False         -9999.0   \n",
       "125403                25522.25                 False         -9999.0   \n",
       "\n",
       "         Rebate or Grant  Performance-Based Incentive (Annual Payment)  \\\n",
       "1051052          -9999.0                                           0.0   \n",
       "125394            4506.0                                           0.0   \n",
       "124616           -9999.0                                           0.0   \n",
       "124972            5910.0                                           0.0   \n",
       "125403           11820.0                                           0.0   \n",
       "\n",
       "        Customer Segment  New Construction Tracking Type  Battery System  \\\n",
       "1051052              RES             -9999         -9999           -9999   \n",
       "125394             -9999                 0         -9999           -9999   \n",
       "124616               RES             -9999         -9999           -9999   \n",
       "124972             -9999                 0         -9999           -9999   \n",
       "125403             -9999                 0         -9999           -9999   \n",
       "\n",
       "                  City       ...              Installer Name  \\\n",
       "1051052        Tijeras       ...                       -9999   \n",
       "125394       Cupertino       ...        light energy systems   \n",
       "124616      Santa Cruz       ...                       -9999   \n",
       "124972        San Jose       ...                gaiam energy   \n",
       "125403   Half Moon Bay       ...                gaiam energy   \n",
       "\n",
       "        Module Manufacturer #1  Module Model #1 Module Model #2  \\\n",
       "1051052                  -9999         no match           -9999   \n",
       "125394                   -9999         no match           -9999   \n",
       "124616                   -9999         no match           -9999   \n",
       "124972                   -9999         no match           -9999   \n",
       "125403                   -9999         no match           -9999   \n",
       "\n",
       "        Additional module model Module Technology #1 BIPV Module #1  \\\n",
       "1051052                   -9999                -9999          -9999   \n",
       "125394                    -9999                -9999          -9999   \n",
       "124616                        0                -9999          -9999   \n",
       "124972                    -9999                -9999          -9999   \n",
       "125403                    -9999                -9999          -9999   \n",
       "\n",
       "         Inverter Manufacturer #1 Inverter Model #1  Year_Installed  \n",
       "1051052                     -9999             -9999            1998  \n",
       "125394                      -9999             -9999            1998  \n",
       "124616         Schneider Electric             -9999            1998  \n",
       "124972                      -9999             -9999            1998  \n",
       "125403                      -9999             -9999            1998  \n",
       "\n",
       "[5 rows x 23 columns]"
      ]
     },
     "execution_count": 21,
     "metadata": {},
     "output_type": "execute_result"
    }
   ],
   "source": [
    "X_train.head()"
   ]
  },
  {
   "cell_type": "code",
   "execution_count": 22,
   "metadata": {},
   "outputs": [],
   "source": [
    "y_pred_val = pipeline.predict(X_val)"
   ]
  },
  {
   "cell_type": "code",
   "execution_count": 23,
   "metadata": {},
   "outputs": [],
   "source": [
    "y_pred_test = pipeline.predict(X_test)"
   ]
  },
  {
   "cell_type": "code",
   "execution_count": 24,
   "metadata": {
    "scrolled": true
   },
   "outputs": [
    {
     "name": "stdout",
     "output_type": "stream",
     "text": [
      "(100000,)\n"
     ]
    },
    {
     "data": {
      "text/plain": [
       "567542     5.800000\n",
       "567541     5.510000\n",
       "567540     8.382449\n",
       "567539     7.250000\n",
       "567538     6.380000\n",
       "567555    13.030510\n",
       "567537     5.610000\n",
       "567556     4.160000\n",
       "567558     5.157653\n",
       "567575     2.350000\n",
       "567574     6.540000\n",
       "567573     9.523980\n",
       "567572     2.943000\n",
       "567571     8.319592\n",
       "567570    10.157041\n",
       "567569     9.873061\n",
       "567568     3.124898\n",
       "567567    10.200816\n",
       "567566    10.364694\n",
       "567565     9.315000\n",
       "567564     9.727143\n",
       "567563     3.190000\n",
       "567562     5.732347\n",
       "567561    12.131429\n",
       "567560     3.298878\n",
       "567559     5.724490\n",
       "567557     2.280000\n",
       "567536     4.539184\n",
       "567535     2.400000\n",
       "567534     8.880816\n",
       "            ...    \n",
       "900604     4.410000\n",
       "900605     4.160000\n",
       "900606     8.320000\n",
       "900607     4.160000\n",
       "900625     3.640000\n",
       "900624     5.130000\n",
       "900623     3.640000\n",
       "900622     5.490000\n",
       "900621     3.780000\n",
       "900620     3.780000\n",
       "900619     3.900000\n",
       "900618     3.900000\n",
       "900668     5.200000\n",
       "900617     3.900000\n",
       "900615     3.900000\n",
       "900614     5.670000\n",
       "900613     3.900000\n",
       "900612     8.190000\n",
       "900611     3.900000\n",
       "900610     8.320000\n",
       "900609     4.095000\n",
       "900608     4.860000\n",
       "900616     8.190000\n",
       "900923     3.900000\n",
       "900669     9.240000\n",
       "900671     1.500000\n",
       "900731     9.765000\n",
       "900730     5.865000\n",
       "900729     5.490000\n",
       "900728     9.880000\n",
       "Name: System Size, Length: 100000, dtype: float64"
      ]
     },
     "execution_count": 24,
     "metadata": {},
     "output_type": "execute_result"
    }
   ],
   "source": [
    "print(y_val.shape)\n",
    "y_val\n"
   ]
  },
  {
   "cell_type": "code",
   "execution_count": 25,
   "metadata": {},
   "outputs": [
    {
     "data": {
      "text/plain": [
       "100000"
      ]
     },
     "execution_count": 25,
     "metadata": {},
     "output_type": "execute_result"
    }
   ],
   "source": [
    "# Establishing baseline...\n",
    "# Mean of X_train?\n",
    "\n",
    "baseline = len(y_val)*[22.22064987631676]\n",
    "len(baseline)"
   ]
  },
  {
   "cell_type": "code",
   "execution_count": 26,
   "metadata": {},
   "outputs": [
    {
     "name": "stdout",
     "output_type": "stream",
     "text": [
      "22.22064987631676\n"
     ]
    }
   ],
   "source": [
    "# Getting the mean:\n",
    "baseline = df['System Size'].mean()\n",
    "print(df['System Size'].mean())"
   ]
  },
  {
   "cell_type": "code",
   "execution_count": 27,
   "metadata": {},
   "outputs": [],
   "source": [
    "baseline = [baseline]*len(y_val)"
   ]
  },
  {
   "cell_type": "code",
   "execution_count": 28,
   "metadata": {},
   "outputs": [
    {
     "name": "stdout",
     "output_type": "stream",
     "text": [
      "Mean Absolute Error for the Baseline Prediction: 23.191171903389222\n"
     ]
    }
   ],
   "source": [
    "# baseline. after we've ran it through the MAE(y_val, baseline)\n",
    "# why do this again?\n",
    "\n",
    "# baseline error: we take the mean and use it against the mae test\n",
    "print('Mean Absolute Error for the Baseline Prediction:', mean_absolute_error(y_val, baseline))"
   ]
  },
  {
   "cell_type": "code",
   "execution_count": 29,
   "metadata": {},
   "outputs": [
    {
     "name": "stdout",
     "output_type": "stream",
     "text": [
      "Mean Absolute Error for the Baseline Prediction: 56.645564880908076\n"
     ]
    }
   ],
   "source": [
    "# MAE of our Validation \n",
    "mean_absolute_error(y_val, y_pred_val)\n",
    "print('Mean Absolute Error for the Baseline Prediction:', mean_absolute_error(y_val, y_pred_val))"
   ]
  },
  {
   "cell_type": "code",
   "execution_count": 30,
   "metadata": {},
   "outputs": [
    {
     "name": "stdout",
     "output_type": "stream",
     "text": [
      "Mean Absolute Error for the Baseline Prediction: 33.94075465107475\n"
     ]
    }
   ],
   "source": [
    "# MAE of our Test \n",
    "# Final Score --- one time only.  \n",
    "mean_absolute_error(y_test, y_pred_test)\n",
    "print('Mean Absolute Error for the Baseline Prediction:', mean_absolute_error(y_test, y_pred_test))"
   ]
  },
  {
   "cell_type": "code",
   "execution_count": 31,
   "metadata": {},
   "outputs": [
    {
     "data": {
      "text/plain": [
       "393955.61701031565"
      ]
     },
     "execution_count": 31,
     "metadata": {},
     "output_type": "execute_result"
    }
   ],
   "source": [
    "mean_squared_error(y_val, baseline)"
   ]
  },
  {
   "cell_type": "code",
   "execution_count": 32,
   "metadata": {},
   "outputs": [
    {
     "data": {
      "text/plain": [
       "394321.79698016547"
      ]
     },
     "execution_count": 32,
     "metadata": {},
     "output_type": "execute_result"
    }
   ],
   "source": [
    "# This is our MSE score for y_val\n",
    "mean_squared_error(y_val, y_pred_val)"
   ]
  },
  {
   "cell_type": "code",
   "execution_count": 33,
   "metadata": {},
   "outputs": [
    {
     "data": {
      "text/plain": [
       "0.24950383617063876"
      ]
     },
     "execution_count": 33,
     "metadata": {},
     "output_type": "execute_result"
    }
   ],
   "source": [
    "# R^2 Score:\n",
    "r2_score(y_test, y_pred_test)"
   ]
  },
  {
   "cell_type": "code",
   "execution_count": 34,
   "metadata": {},
   "outputs": [
    {
     "name": "stdout",
     "output_type": "stream",
     "text": [
      "Baseline (mean): 22.22064987631676\n",
      "Mean Absolute Error for the Baseline Prediction: 23.191171903389222\n",
      "Mean Absolute Error for the y_pred Val: 56.645564880908076\n",
      "Mean Absolute Error for the y_pred Test: 33.94075465107475\n",
      "MSE on baseline: 393955.61701031565\n",
      "MSE on y predicted value: 394321.79698016547\n",
      "R^2: 0.24950383617063876\n"
     ]
    }
   ],
   "source": [
    "print('Baseline (mean):', df['System Size'].mean())\n",
    "print('Mean Absolute Error for the Baseline Prediction:', mean_absolute_error(y_val, baseline))\n",
    "print('Mean Absolute Error for the y_pred Val:', mean_absolute_error(y_val, y_pred_val))\n",
    "print('Mean Absolute Error for the y_pred Test:', mean_absolute_error(y_test, y_pred_test))\n",
    "print('MSE on baseline:', mean_squared_error(y_val, baseline))\n",
    "print('MSE on y predicted value:', mean_squared_error(y_val, y_pred_val))\n",
    "print('R^2:', r2_score(y_test, y_pred_test))"
   ]
  },
  {
   "cell_type": "code",
   "execution_count": null,
   "metadata": {},
   "outputs": [],
   "source": []
  },
  {
   "cell_type": "code",
   "execution_count": 35,
   "metadata": {},
   "outputs": [
    {
     "data": {
      "image/png": "[encoded data removed]",
      "text/plain": [
       "<Figure size 1152x864 with 2 Axes>"
      ]
     },
     "metadata": {
      "needs_background": "light"
     },
     "output_type": "display_data"
    }
   ],
   "source": [
    "# Heatmap with everyone - ROUND 2.  \n",
    "plt.figure(figsize=(16, 12))\n",
    "sns.heatmap(X_train.corr(),annot=True);"
   ]
  },
  {
   "cell_type": "code",
   "execution_count": 37,
   "metadata": {
    "scrolled": false
   },
   "outputs": [
    {
     "data": {
      "text/html": [
       "<table class=\"simpletable\">\n",
       "<caption>OLS Regression Results</caption>\n",
       "<tr>\n",
       "  <th>Dep. Variable:</th>       <td>System Size</td>   <th>  R-squared:         </th>  <td>   0.000</td>  \n",
       "</tr>\n",
       "<tr>\n",
       "  <th>Model:</th>                   <td>OLS</td>       <th>  Adj. R-squared:    </th>  <td>   0.000</td>  \n",
       "</tr>\n",
       "<tr>\n",
       "  <th>Method:</th>             <td>Least Squares</td>  <th>  F-statistic:       </th>  <td>   27.36</td>  \n",
       "</tr>\n",
       "<tr>\n",
       "  <th>Date:</th>             <td>Thu, 26 Sep 2019</td> <th>  Prob (F-statistic):</th>  <td>6.30e-48</td>  \n",
       "</tr>\n",
       "<tr>\n",
       "  <th>Time:</th>                 <td>17:44:02</td>     <th>  Log-Likelihood:    </th> <td>-1.0292e+07</td>\n",
       "</tr>\n",
       "<tr>\n",
       "  <th>No. Observations:</th>      <td>1048663</td>     <th>  AIC:               </th>  <td>2.058e+07</td> \n",
       "</tr>\n",
       "<tr>\n",
       "  <th>Df Residuals:</th>          <td>1048653</td>     <th>  BIC:               </th>  <td>2.058e+07</td> \n",
       "</tr>\n",
       "<tr>\n",
       "  <th>Df Model:</th>              <td>     9</td>      <th>                     </th>      <td> </td>     \n",
       "</tr>\n",
       "<tr>\n",
       "  <th>Covariance Type:</th>      <td>nonrobust</td>    <th>                     </th>      <td> </td>     \n",
       "</tr>\n",
       "</table>\n",
       "<table class=\"simpletable\">\n",
       "<tr>\n",
       "                        <td></td>                          <th>coef</th>     <th>std err</th>      <th>t</th>      <th>P>|t|</th>  <th>[0.025</th>    <th>0.975]</th>  \n",
       "</tr>\n",
       "<tr>\n",
       "  <th>const</th>                                        <td>-1234.3891</td> <td> 3983.083</td> <td>   -0.310</td> <td> 0.757</td> <td>-9041.097</td> <td> 6572.318</td>\n",
       "</tr>\n",
       "<tr>\n",
       "  <th>Total Installed Price</th>                        <td>   4.3e-07</td> <td> 9.18e-07</td> <td>    0.468</td> <td> 0.640</td> <td>-1.37e-06</td> <td> 2.23e-06</td>\n",
       "</tr>\n",
       "<tr>\n",
       "  <th>Sales Tax Cost</th>                               <td>    0.0028</td> <td>    0.001</td> <td>    4.957</td> <td> 0.000</td> <td>    0.002</td> <td>    0.004</td>\n",
       "</tr>\n",
       "<tr>\n",
       "  <th>Rebate or Grant</th>                              <td>    0.0004</td> <td> 6.04e-05</td> <td>    6.406</td> <td> 0.000</td> <td>    0.000</td> <td>    0.001</td>\n",
       "</tr>\n",
       "<tr>\n",
       "  <th>Performance-Based Incentive (Annual Payment)</th> <td>    0.0036</td> <td>    0.001</td> <td>    6.010</td> <td> 0.000</td> <td>    0.002</td> <td>    0.005</td>\n",
       "</tr>\n",
       "<tr>\n",
       "  <th>BIPV Module #1</th>                               <td>   -0.0048</td> <td>    0.001</td> <td>   -4.142</td> <td> 0.000</td> <td>   -0.007</td> <td>   -0.003</td>\n",
       "</tr>\n",
       "<tr>\n",
       "  <th>Year_Installed</th>                               <td>    0.6480</td> <td>    1.979</td> <td>    0.327</td> <td> 0.743</td> <td>   -3.232</td> <td>    4.528</td>\n",
       "</tr>\n",
       "<tr>\n",
       "  <th>New Construction</th>                             <td>   -0.0029</td> <td>    0.001</td> <td>   -2.342</td> <td> 0.019</td> <td>   -0.005</td> <td>   -0.000</td>\n",
       "</tr>\n",
       "<tr>\n",
       "  <th>Battery System</th>                               <td>    0.0099</td> <td>    0.001</td> <td>    7.099</td> <td> 0.000</td> <td>    0.007</td> <td>    0.013</td>\n",
       "</tr>\n",
       "<tr>\n",
       "  <th>Third-Party Owned</th>                            <td>   -0.0042</td> <td>    0.001</td> <td>   -3.351</td> <td> 0.001</td> <td>   -0.007</td> <td>   -0.002</td>\n",
       "</tr>\n",
       "</table>\n",
       "<table class=\"simpletable\">\n",
       "<tr>\n",
       "  <th>Omnibus:</th>       <td>7264927.660</td> <th>  Durbin-Watson:     </th>       <td>   1.900</td>       \n",
       "</tr>\n",
       "<tr>\n",
       "  <th>Prob(Omnibus):</th>   <td> 0.000</td>    <th>  Jarque-Bera (JB):  </th> <td>18372736667658860.000</td>\n",
       "</tr>\n",
       "<tr>\n",
       "  <th>Skew:</th>            <td>750.497</td>   <th>  Prob(JB):          </th>       <td>    0.00</td>       \n",
       "</tr>\n",
       "<tr>\n",
       "  <th>Kurtosis:</th>      <td>648448.394</td>  <th>  Cond. No.          </th>       <td>4.34e+09</td>       \n",
       "</tr>\n",
       "</table><br/><br/>Warnings:<br/>[1] Standard Errors assume that the covariance matrix of the errors is correctly specified.<br/>[2] The condition number is large, 4.34e+09. This might indicate that there are<br/>strong multicollinearity or other numerical problems."
      ],
      "text/plain": [
       "<class 'statsmodels.iolib.summary.Summary'>\n",
       "\"\"\"\n",
       "                            OLS Regression Results                            \n",
       "==============================================================================\n",
       "Dep. Variable:            System Size   R-squared:                       0.000\n",
       "Model:                            OLS   Adj. R-squared:                  0.000\n",
       "Method:                 Least Squares   F-statistic:                     27.36\n",
       "Date:                Thu, 26 Sep 2019   Prob (F-statistic):           6.30e-48\n",
       "Time:                        17:44:02   Log-Likelihood:            -1.0292e+07\n",
       "No. Observations:             1048663   AIC:                         2.058e+07\n",
       "Df Residuals:                 1048653   BIC:                         2.058e+07\n",
       "Df Model:                           9                                         \n",
       "Covariance Type:            nonrobust                                         \n",
       "================================================================================================================\n",
       "                                                   coef    std err          t      P>|t|      [0.025      0.975]\n",
       "----------------------------------------------------------------------------------------------------------------\n",
       "const                                        -1234.3891   3983.083     -0.310      0.757   -9041.097    6572.318\n",
       "Total Installed Price                           4.3e-07   9.18e-07      0.468      0.640   -1.37e-06    2.23e-06\n",
       "Sales Tax Cost                                   0.0028      0.001      4.957      0.000       0.002       0.004\n",
       "Rebate or Grant                                  0.0004   6.04e-05      6.406      0.000       0.000       0.001\n",
       "Performance-Based Incentive (Annual Payment)     0.0036      0.001      6.010      0.000       0.002       0.005\n",
       "BIPV Module #1                                  -0.0048      0.001     -4.142      0.000      -0.007      -0.003\n",
       "Year_Installed                                   0.6480      1.979      0.327      0.743      -3.232       4.528\n",
       "New Construction                                -0.0029      0.001     -2.342      0.019      -0.005      -0.000\n",
       "Battery System                                   0.0099      0.001      7.099      0.000       0.007       0.013\n",
       "Third-Party Owned                               -0.0042      0.001     -3.351      0.001      -0.007      -0.002\n",
       "=================================================================================\n",
       "Omnibus:                  7264927.660   Durbin-Watson:                      1.900\n",
       "Prob(Omnibus):                  0.000   Jarque-Bera (JB):   18372736667658860.000\n",
       "Skew:                         750.497   Prob(JB):                            0.00\n",
       "Kurtosis:                  648448.394   Cond. No.                        4.34e+09\n",
       "=================================================================================\n",
       "\n",
       "Warnings:\n",
       "[1] Standard Errors assume that the covariance matrix of the errors is correctly specified.\n",
       "[2] The condition number is large, 4.34e+09. This might indicate that there are\n",
       "strong multicollinearity or other numerical problems.\n",
       "\"\"\""
      ]
     },
     "execution_count": 37,
     "metadata": {},
     "output_type": "execute_result"
    }
   ],
   "source": [
    "# OLS - Revision 1\n",
    "# So keep in mind, this is the first time we do it.\n",
    "\n",
    "y1 = y_train.astype(float)\n",
    "x1 = X_train[['Total Installed Price', 'Sales Tax Cost', 'Rebate or Grant',\n",
    "       'Performance-Based Incentive (Annual Payment)',\n",
    "       'BIPV Module #1', \n",
    "       'Year_Installed',\n",
    "       'New Construction', 'Battery System',\n",
    "       'Third-Party Owned'\n",
    "        ]].astype(float)\n",
    "# second line is new additions\n",
    "# Removed System Size and Total Installed Price (Becaues this made up cost_per_kwp)\n",
    "\n",
    "x = sm.add_constant(x1)\n",
    "\n",
    "results = sm.OLS(y1, x).fit()\n",
    "results.summary()"
   ]
  },
  {
   "cell_type": "code",
   "execution_count": null,
   "metadata": {},
   "outputs": [],
   "source": [
    "y_pred_val.shape"
   ]
  },
  {
   "cell_type": "code",
   "execution_count": null,
   "metadata": {},
   "outputs": [],
   "source": [
    "X_train.shape, y_val.shape, y_test.shape"
   ]
  },
  {
   "cell_type": "code",
   "execution_count": null,
   "metadata": {},
   "outputs": [],
   "source": [
    "print(X_train.shape)\n",
    "X_train.head()"
   ]
  },
  {
   "cell_type": "code",
   "execution_count": null,
   "metadata": {},
   "outputs": [],
   "source": [
    "X_train.isnull().sum().sort_values(ascending=False)"
   ]
  },
  {
   "cell_type": "code",
   "execution_count": null,
   "metadata": {},
   "outputs": [],
   "source": [
    "mask = X_train.replace(-9999, np.NaN)"
   ]
  },
  {
   "cell_type": "code",
   "execution_count": null,
   "metadata": {},
   "outputs": [],
   "source": [
    "mask.head(100)"
   ]
  },
  {
   "cell_type": "code",
   "execution_count": null,
   "metadata": {},
   "outputs": [],
   "source": [
    "X_train['Inverter Manufacturer #1'].value_counts().sum()"
   ]
  },
  {
   "cell_type": "code",
   "execution_count": null,
   "metadata": {},
   "outputs": [],
   "source": [
    "X_train.describe(exclude='number')"
   ]
  }
 ],
 "metadata": {
  "kernelspec": {
   "display_name": "Python 3",
   "language": "python",
   "name": "python3"
  },
  "language_info": {
   "codemirror_mode": {
    "name": "ipython",
    "version": 3
   },
   "file_extension": ".py",
   "mimetype": "text/x-python",
   "name": "python",
   "nbconvert_exporter": "python",
   "pygments_lexer": "ipython3",
   "version": "3.7.4"
  }
 },
 "nbformat": 4,
 "nbformat_minor": 2
}
